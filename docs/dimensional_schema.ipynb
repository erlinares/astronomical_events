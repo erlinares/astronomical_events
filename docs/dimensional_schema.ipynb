{
  "nbformat": 4,
  "nbformat_minor": 0,
  "metadata": {
    "colab": {
      "provenance": []
    },
    "kernelspec": {
      "name": "python3",
      "display_name": "Python 3"
    },
    "language_info": {
      "name": "python"
    }
  },
  "cells": [
    {
      "cell_type": "markdown",
      "source": [
        "# Project: Lunar Events\n",
        "- Author: Edgar Rios\n",
        "- Date: 2025-01-19\n",
        "- Version: 1.0\n"
      ],
      "metadata": {
        "id": "x-53LBrZEBgh"
      }
    },
    {
      "cell_type": "markdown",
      "source": [
        "**1. Esquema Dimensional**\n",
        "\n",
        "El esquema es un modelo estrella el cual está compuesto por una tabla de hechos (FACT) y 3 tablas de dimensiones (DIM).\n"
      ],
      "metadata": {
        "id": "j5F6soJ0EkS_"
      }
    },
    {
      "cell_type": "code",
      "source": [
        "from IPython.display import Image\n",
        "\n",
        "# Mostrar la imagen desde la URL\n",
        "Image(url=\"https://raw.githubusercontent.com/erlinares/astronomical_events/main/docs/diagram/dimensional_diagram.png\")\n"
      ],
      "metadata": {
        "colab": {
          "base_uri": "https://localhost:8080/",
          "height": 989
        },
        "id": "PVGxF88qD91i",
        "outputId": "31865adc-7d5b-41e2-f777-c0244d3d3e60"
      },
      "execution_count": 6,
      "outputs": [
        {
          "output_type": "execute_result",
          "data": {
            "text/html": [
              "<img src=\"https://raw.githubusercontent.com/erlinares/astronomical_events/main/docs/diagram/dimensional_diagram.png\"/>"
            ],
            "text/plain": [
              "<IPython.core.display.Image object>"
            ]
          },
          "metadata": {},
          "execution_count": 6
        }
      ]
    },
    {
      "cell_type": "markdown",
      "source": [
        "**2. Tablas de Hechos y Dimensiones**\n",
        "\n",
        "\n",
        "**Tabla de Hechos:** fact_lunar_events\n",
        "\n",
        "- event_id: Identificador único del evento.\n",
        "- event_type_key: Clave para la dimensión del tipo de evento.\n",
        "- time_key: Clave para la dimensión temporal.\n",
        "- location_key: Clave para la dimensión de ubicación.\n",
        "- details: Detalles del evento.\n",
        "\n",
        "\n",
        "**Dimensiones:**\n",
        "\n",
        "**DIM_EVENT_TYPE:**\n",
        "- event_type_key: Clave primaria.\n",
        "- type_name: Nombre del tipo de evento.\n",
        "- category: Categoría del evento.\n",
        "- description: Descripción del evento.\n",
        "\n",
        "**DIM_TIME:**\n",
        "  - time_key: Clave primaria.\n",
        "  - timestamp: Fecha completa.\n",
        "  - year: Año.\n",
        "  - month: Mes.\n",
        "  - day: Día.\n",
        "  - quarter: trimestre\n",
        "  - season: temporada\n",
        "\n",
        "**DIM_LOCATION:**\n",
        "- location_key: Clave primaria.\n",
        "- region: Región.\n",
        "- country: País\n",
        "- continent: Continente\n",
        "- hemisphere: Hemisferio\n",
        "- latitude: Latitud.\n",
        "- longitude: Longitud.\n",
        "- timezone: Zona horaria.\n"
      ],
      "metadata": {
        "id": "ABTciI-gE84P"
      }
    },
    {
      "cell_type": "markdown",
      "source": [
        "##Justificación##\n",
        "\n",
        "* Rendimiento en las consultas\n",
        "\n",
        "  El modelo estrella permite consultas eficientes en bases de datos que procesan modelos anáiticos.\n",
        "\n",
        "* Mejora en el almacenamiento\n",
        "  Este modelo evita la redundancia de datos, ya que se crean dimensiones para clasificar diferentes conceptos como fechas, eventos y ubicaciones\n",
        "  \n",
        "* Facilidad de las agrupaciones\n",
        "\n",
        "  Se pueden calcular de manera fácil diferentes métricas como cuentas, sumas, promedios, etc. por diferentes tipos de dimensiones.\n",
        "\n",
        "* Enriquecer el dataset\n",
        "  El modelo permite enriquecer los datos por ejemplo en el tema de location se pueden agregar datos que están implícitos, con la latitud y longitud se pueden obtener más datos como pais, continente, hemisferio."
      ],
      "metadata": {
        "id": "FojL16qHK8jt"
      }
    }
  ]
}