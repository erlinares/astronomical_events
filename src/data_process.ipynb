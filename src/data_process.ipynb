{
 "cells": [
  {
   "cell_type": "markdown",
   "metadata": {
    "application/vnd.databricks.v1+cell": {
     "cellMetadata": {
      "byteLimit": 2048000,
      "rowLimit": 10000
     },
     "inputWidgets": {},
     "nuid": "96006872-ff88-4884-a6db-d722ee7741bd",
     "showTitle": false,
     "tableResultSettingsMap": {},
     "title": ""
    }
   },
   "source": [
    "# Project: Lunar Events\n",
    "\n",
    "- Author:   Edgar Rios\n",
    "- Date:     2025-01-19\n",
    "- Version:  1.0"
   ]
  },
  {
   "cell_type": "code",
   "execution_count": 0,
   "metadata": {
    "application/vnd.databricks.v1+cell": {
     "cellMetadata": {
      "byteLimit": 2048000,
      "rowLimit": 10000
     },
     "inputWidgets": {},
     "nuid": "06262226-72f9-47db-a532-3b0deef24972",
     "showTitle": false,
     "tableResultSettingsMap": {},
     "title": ""
    }
   },
   "outputs": [],
   "source": [
    "# ******************************************************************************************************************\n",
    "# || DESCRIPTION\n",
    "# || -------------------------------------------------------------------------------------------------------------\n",
    "# || PROJECT       \t: Lunar Events\n",
    "# || FILE        \t: data_process.ipynb\n",
    "# || SOURCE         : \n",
    "# || TARGET         : /\n",
    "# || OBJETIVE\t\t: Process data of lunar events\n",
    "# || Reprocess      : Yes\n",
    "# || NOTES      \t: TBD\n",
    "# || SCHEDULER\t\t: TBD\n",
    "# || JOB\t\t\t: TBD\n",
    "# || VERSION  DEVELOPER\t        PROVIDER              DATE\t\t\t DESCRIPTION\n",
    "# || -------------------------------------------------------------------------------------------------------------\n",
    "# || \t1\t  EDGAR RIOS        SYNTHETIC       \t  2025-01-19\tCreate synthetic data of lunar events\n",
    "# || \t2\t  EDGAR RIOS        SYNTHETIC       \t  2025-01-19\tchange name dataset\n",
    "# ******************************************************************************************************************\n"
   ]
  },
  {
   "cell_type": "markdown",
   "metadata": {
    "application/vnd.databricks.v1+cell": {
     "cellMetadata": {
      "byteLimit": 2048000,
      "rowLimit": 10000
     },
     "inputWidgets": {},
     "nuid": "a2c54972-be18-4090-a887-0b2de44cc933",
     "showTitle": false,
     "tableResultSettingsMap": {},
     "title": ""
    }
   },
   "source": [
    "## Import libaries"
   ]
  },
  {
   "cell_type": "code",
   "execution_count": 0,
   "metadata": {
    "application/vnd.databricks.v1+cell": {
     "cellMetadata": {
      "byteLimit": 2048000,
      "rowLimit": 10000
     },
     "inputWidgets": {},
     "nuid": "0d4154b4-9a20-4d35-8e42-2344c50f6440",
     "showTitle": false,
     "tableResultSettingsMap": {},
     "title": ""
    }
   },
   "outputs": [],
   "source": [
    "from pyspark.sql import SparkSession\n",
    "from pyspark.sql.functions import *\n",
    "import uuid\n",
    "from datetime import datetime, timedelta\n",
    "import random"
   ]
  },
  {
   "cell_type": "markdown",
   "metadata": {
    "application/vnd.databricks.v1+cell": {
     "cellMetadata": {
      "byteLimit": 2048000,
      "rowLimit": 10000
     },
     "inputWidgets": {},
     "nuid": "894b69b6-cee9-4619-9638-140d94758d7f",
     "showTitle": false,
     "tableResultSettingsMap": {},
     "title": ""
    }
   },
   "source": [
    "## Synthetic Data"
   ]
  },
  {
   "cell_type": "code",
   "execution_count": 0,
   "metadata": {
    "application/vnd.databricks.v1+cell": {
     "cellMetadata": {
      "byteLimit": 2048000,
      "rowLimit": 10000
     },
     "inputWidgets": {},
     "nuid": "2926997e-7220-4fd7-83ab-f1dd44e88e1d",
     "showTitle": false,
     "tableResultSettingsMap": {},
     "title": ""
    }
   },
   "outputs": [],
   "source": [
    "# load Delta Table\n",
    "def load_data(metastore):\n",
    "    df = spark.read.table(metastore)\n",
    "    return df\n",
    "\n",
    "def process_lunar_events(df):\n",
    "    # filtred lunar events \n",
    "    lunar_events = df.filter(col(\"event_type\") == \"lunar\")\n",
    "\n",
    "    # add year column\n",
    "    lunar_events = lunar_events.withColumn(\"year\", year(\"timestamp\"))  \n",
    "\n",
    "    # group by year\n",
    "    lunar_events = lunar_events.groupBy(\"year\") \\\n",
    "        .agg(count(\"*\").alias(\"total_lunar_events\"))\n",
    "    \n",
    "    return lunar_events\n",
    "\n",
    "def main():\n",
    "    # create session\n",
    "    spark = SparkSession.builder.getOrCreate()\n",
    "    \n",
    "    # load data \n",
    "    metastore=\"default.astronomical_events\"\n",
    "    df = load_data(metastore)\n",
    "\n",
    "    # process lunar events\n",
    "    yearly_summary = process_lunar_events(df)\n",
    "\n",
    "    # save in parquet format\n",
    "    yearly_summary.write.mode(\"overwrite\") \\\n",
    "        .partitionBy(\"year\") \\\n",
    "        .format(\"delta\") \\\n",
    "        .option(\"mergeSchema\", \"true\")\\\n",
    "        .saveAsTable(\"default.lunar_events\")\n",
    "\n",
    "if __name__ == \"__main__\":\n",
    "    main()\n"
   ]
  }
 ],
 "metadata": {
  "application/vnd.databricks.v1+notebook": {
   "computePreferences": null,
   "dashboards": [],
   "environmentMetadata": {
    "base_environment": "",
    "client": "1"
   },
   "language": "python",
   "notebookMetadata": {
    "mostRecentlyExecutedCommandWithImplicitDF": {
     "commandId": 892282378222825,
     "dataframes": [
      "_sqldf"
     ]
    },
    "pythonIndentUnit": 4
   },
   "notebookName": "data_process",
   "widgets": {}
  },
  "language_info": {
   "name": "python"
  }
 },
 "nbformat": 4,
 "nbformat_minor": 0
}
