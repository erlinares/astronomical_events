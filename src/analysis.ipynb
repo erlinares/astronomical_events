{
 "cells": [
  {
   "cell_type": "markdown",
   "metadata": {
    "application/vnd.databricks.v1+cell": {
     "cellMetadata": {
      "byteLimit": 2048000,
      "rowLimit": 10000
     },
     "inputWidgets": {},
     "nuid": "96006872-ff88-4884-a6db-d722ee7741bd",
     "showTitle": false,
     "tableResultSettingsMap": {},
     "title": ""
    }
   },
   "source": [
    "# Project: Lunar Events\n",
    "\n",
    "- Author:   Edgar Rios\n",
    "- Date:     2025-01-19\n",
    "- Version:  1.0"
   ]
  },
  {
   "cell_type": "code",
   "execution_count": 0,
   "metadata": {
    "application/vnd.databricks.v1+cell": {
     "cellMetadata": {
      "byteLimit": 2048000,
      "rowLimit": 10000
     },
     "inputWidgets": {},
     "nuid": "06262226-72f9-47db-a532-3b0deef24972",
     "showTitle": false,
     "tableResultSettingsMap": {},
     "title": ""
    }
   },
   "outputs": [],
   "source": [
    "# ******************************************************************************************************************\n",
    "# || DESCRIPTION\n",
    "# || -------------------------------------------------------------------------------------------------------------\n",
    "# || PROJECT       \t: Lunar Events\n",
    "# || FILE        \t: analysis.ipynb\n",
    "# || SOURCE         : \n",
    "# || TARGET         : /\n",
    "# || OBJETIVE\t\t: Analysis data of lunar events\n",
    "# || Reprocess      : Yes\n",
    "# || NOTES      \t: TBD\n",
    "# || SCHEDULER\t\t: TBD\n",
    "# || JOB\t\t\t: TBD\n",
    "# || VERSION  DEVELOPER\t        PROVIDER              DATE\t\t\t DESCRIPTION\n",
    "# || -------------------------------------------------------------------------------------------------------------\n",
    "# || \t1\t  EDGAR RIOS        SYNTHETIC       \t  2025-01-19\tAnalysis of lunar events\n",
    "# ******************************************************************************************************************\n"
   ]
  },
  {
   "cell_type": "markdown",
   "metadata": {
    "application/vnd.databricks.v1+cell": {
     "cellMetadata": {
      "byteLimit": 2048000,
      "rowLimit": 10000
     },
     "inputWidgets": {},
     "nuid": "a2c54972-be18-4090-a887-0b2de44cc933",
     "showTitle": false,
     "tableResultSettingsMap": {},
     "title": ""
    }
   },
   "source": [
    "## Import libaries"
   ]
  },
  {
   "cell_type": "code",
   "execution_count": 0,
   "metadata": {
    "application/vnd.databricks.v1+cell": {
     "cellMetadata": {
      "byteLimit": 2048000,
      "rowLimit": 10000
     },
     "inputWidgets": {},
     "nuid": "0d4154b4-9a20-4d35-8e42-2344c50f6440",
     "showTitle": false,
     "tableResultSettingsMap": {},
     "title": ""
    }
   },
   "outputs": [],
   "source": [
    "from pyspark.sql import SparkSession\n",
    "from pyspark.sql.functions import *\n",
    "import uuid\n",
    "from datetime import datetime, timedelta\n",
    "import random"
   ]
  },
  {
   "cell_type": "markdown",
   "metadata": {
    "application/vnd.databricks.v1+cell": {
     "cellMetadata": {
      "byteLimit": 2048000,
      "rowLimit": 10000
     },
     "inputWidgets": {},
     "nuid": "894b69b6-cee9-4619-9638-140d94758d7f",
     "showTitle": false,
     "tableResultSettingsMap": {},
     "title": ""
    }
   },
   "source": [
    "## Analysis"
   ]
  },
  {
   "cell_type": "markdown",
   "metadata": {
    "application/vnd.databricks.v1+cell": {
     "cellMetadata": {},
     "inputWidgets": {},
     "nuid": "980d709b-ab38-45f5-bba9-32d9203ad7c7",
     "showTitle": false,
     "tableResultSettingsMap": {},
     "title": ""
    }
   },
   "source": [
    "### Leer datos"
   ]
  },
  {
   "cell_type": "code",
   "execution_count": 0,
   "metadata": {
    "application/vnd.databricks.v1+cell": {
     "cellMetadata": {
      "byteLimit": 2048000,
      "rowLimit": 10000
     },
     "inputWidgets": {},
     "nuid": "2926997e-7220-4fd7-83ab-f1dd44e88e1d",
     "showTitle": false,
     "tableResultSettingsMap": {},
     "title": ""
    }
   },
   "outputs": [],
   "source": [
    "# load data \n",
    "metastore=\"default.astronomical_events\"\n",
    "df = spark.read.table(metastore)\n"
   ]
  },
  {
   "cell_type": "markdown",
   "metadata": {
    "application/vnd.databricks.v1+cell": {
     "cellMetadata": {},
     "inputWidgets": {},
     "nuid": "14afb9bd-fb42-41eb-b690-4eab913ba492",
     "showTitle": false,
     "tableResultSettingsMap": {},
     "title": ""
    }
   },
   "source": [
    "### 1. Filtrar eventos lunares y solares de los últimos dos años"
   ]
  },
  {
   "cell_type": "code",
   "execution_count": 0,
   "metadata": {
    "application/vnd.databricks.v1+cell": {
     "cellMetadata": {
      "byteLimit": 2048000,
      "rowLimit": 10000
     },
     "inputWidgets": {},
     "nuid": "2dee61f1-94e2-46b3-bd1f-94bd07c9e0c8",
     "showTitle": false,
     "tableResultSettingsMap": {},
     "title": ""
    }
   },
   "outputs": [
    {
     "output_type": "stream",
     "name": "stdout",
     "output_type": "stream",
     "text": [
      "+--------------------+--------------------+----------+-------------+--------------------+\n|             details|            event_id|event_type|     location|           timestamp|\n+--------------------+--------------------+----------+-------------+--------------------+\n|Event description...|c7b0109d-d7f0-448...|     solar|South_America|2023-07-04 02:24:...|\n|Event description...|4945f5b1-fb64-471...|     solar|North_America|2023-02-20 02:24:...|\n|Event description...|f3158d08-c1bc-4e9...|     lunar|North_America|2024-06-12 02:24:...|\n|Event description...|765f9c43-0abf-441...|     solar|South_America|2024-01-24 02:24:...|\n|Event description...|025c20fa-dd19-4cd...|     solar|North_America|2023-07-17 02:24:...|\n|Event description...|8556cc38-70d0-402...|     lunar|South_America|2023-02-01 02:24:...|\n|Event description...|8ff7ee39-0e15-474...|     lunar|North_America|2023-12-11 02:24:...|\n|Event description...|00849c99-32ed-426...|     lunar|North_America|2024-10-05 02:24:...|\n|Event description...|899519b2-7896-4d8...|     lunar|North_America|2024-03-17 02:24:...|\n|Event description...|9f4c8858-d98b-47f...|     lunar|South_America|2024-08-20 02:24:...|\n|Event description...|320ddbc3-685e-4b5...|     lunar|South_America|2024-06-22 02:24:...|\n|Event description...|bd6b838e-32c4-447...|     solar|North_America|2023-10-24 02:24:...|\n|Event description...|eb781703-c4c3-492...|     solar|South_America|2023-12-08 02:24:...|\n|Event description...|89f5d5cb-2a85-401...|     solar|South_America|2023-01-27 02:24:...|\n|Event description...|308c1215-1baa-401...|     lunar|North_America|2024-06-10 02:24:...|\n|Event description...|6f5212f5-6828-456...|     lunar|South_America|2024-11-08 02:24:...|\n|Event description...|8f2b07c1-8af3-4f8...|     lunar|South_America|2023-04-15 02:24:...|\n|Event description...|2d1299e2-e89b-42a...|     lunar|North_America|2023-10-08 02:24:...|\n|Event description...|02ea09fd-fd97-409...|     lunar|South_America|2023-12-22 02:24:...|\n|Event description...|2dffdf44-53d4-4c6...|     lunar|North_America|2024-02-19 02:24:...|\n+--------------------+--------------------+----------+-------------+--------------------+\nonly showing top 20 rows\n\n"
     ]
    }
   ],
   "source": [
    "filtered_df = df.filter((col(\"event_type\").isin([\"lunar\", \"solar\"])) & (year(col(\"timestamp\")) >= 2023))\n",
    "filtered_df.show()"
   ]
  },
  {
   "cell_type": "markdown",
   "metadata": {
    "application/vnd.databricks.v1+cell": {
     "cellMetadata": {},
     "inputWidgets": {},
     "nuid": "1728bdde-9b5c-4f96-9b33-99ce33fed1fc",
     "showTitle": false,
     "tableResultSettingsMap": {},
     "title": ""
    }
   },
   "source": [
    "### 2. Agrupar eventos por tipo y calcular la media de eventos por año.\n"
   ]
  },
  {
   "cell_type": "code",
   "execution_count": 0,
   "metadata": {
    "application/vnd.databricks.v1+cell": {
     "cellMetadata": {
      "byteLimit": 2048000,
      "rowLimit": 10000
     },
     "inputWidgets": {},
     "nuid": "9991033e-8d2f-438e-aaaf-14b82ce51378",
     "showTitle": false,
     "tableResultSettingsMap": {},
     "title": ""
    }
   },
   "outputs": [
    {
     "output_type": "stream",
     "name": "stdout",
     "output_type": "stream",
     "text": [
      "+----------+----+------------+-------------------+\n|event_type|year|events_count|avg_events_per_year|\n+----------+----+------------+-------------------+\n|  asteroid|2023|         686|             504.75|\n|  asteroid|2024|         693|             504.75|\n|  asteroid|2022|         614|             504.75|\n|  asteroid|2025|          26|             504.75|\n|    meteor|2025|          32|              510.0|\n|    meteor|2024|         692|              510.0|\n|    meteor|2023|         674|              510.0|\n|    meteor|2022|         642|              510.0|\n|     comet|2022|         648|              514.0|\n|     comet|2023|         667|              514.0|\n|     comet|2024|         699|              514.0|\n|     lunar|2023|         597|              468.5|\n|     lunar|2022|         624|              468.5|\n|     solar|2022|         674|             502.75|\n|     solar|2024|         645|             502.75|\n|     lunar|2024|         624|              468.5|\n|     comet|2025|          42|              514.0|\n|     solar|2023|         659|             502.75|\n|     lunar|2025|          29|              468.5|\n|     solar|2025|          33|             502.75|\n+----------+----+------------+-------------------+\n\n"
     ]
    }
   ],
   "source": [
    "df_with_year = df.withColumn(\"year\", year(col(\"timestamp\")))\n",
    "\n",
    "events_per_year = (\n",
    "    df_with_year.groupBy(\"event_type\", \"year\")\n",
    "    .agg(count(\"*\").alias(\"events_count\"))\n",
    ")\n",
    "\n",
    "average_events = (\n",
    "    events_per_year.groupBy(\"event_type\")\n",
    "    .agg(avg(\"events_count\").alias(\"avg_events_per_year\"))\n",
    ")\n",
    "\n",
    "# Unir la media de eventos al DataFrame original agrupado\n",
    "result_with_average = events_per_year.join(\n",
    "    average_events, on=\"event_type\", how=\"inner\"\n",
    ")\n",
    "\n",
    "# Mostrar el resultado\n",
    "result_with_average.show()\n",
    "\n"
   ]
  },
  {
   "cell_type": "markdown",
   "metadata": {
    "application/vnd.databricks.v1+cell": {
     "cellMetadata": {},
     "inputWidgets": {},
     "nuid": "87900389-5419-4a10-a0f4-11ed44146e60",
     "showTitle": false,
     "tableResultSettingsMap": {},
     "title": ""
    }
   },
   "source": [
    "3. Implementar un join utilizando broadcast para relacionar un dataset de eventos con uno de ubicaciones pequeñas."
   ]
  },
  {
   "cell_type": "code",
   "execution_count": 0,
   "metadata": {
    "application/vnd.databricks.v1+cell": {
     "cellMetadata": {
      "byteLimit": 2048000,
      "rowLimit": 10000
     },
     "inputWidgets": {},
     "nuid": "80c9c505-af35-4fe8-a5d9-3123afb8a933",
     "showTitle": false,
     "tableResultSettingsMap": {},
     "title": ""
    }
   },
   "outputs": [
    {
     "output_type": "stream",
     "name": "stdout",
     "output_type": "stream",
     "text": [
      "+----------+-------------+\n|event_type|event_type_id|\n+----------+-------------+\n|  asteroid|            0|\n|    meteor|            1|\n|     solar|            2|\n|     lunar|            3|\n|     comet|            4|\n+----------+-------------+\n\n"
     ]
    }
   ],
   "source": [
    "#obtener catálogo de eventos\n",
    "event_types_catalog = df.select(\"event_type\").distinct().withColumn(\"event_type_id\", monotonically_increasing_id())\n",
    "event_types_catalog.show()\n"
   ]
  },
  {
   "cell_type": "code",
   "execution_count": 0,
   "metadata": {
    "application/vnd.databricks.v1+cell": {
     "cellMetadata": {
      "byteLimit": 2048000,
      "rowLimit": 10000
     },
     "inputWidgets": {},
     "nuid": "872d2fb6-e990-436d-ac50-5f4fb3e2e787",
     "showTitle": false,
     "tableResultSettingsMap": {},
     "title": ""
    }
   },
   "outputs": [
    {
     "output_type": "stream",
     "name": "stdout",
     "output_type": "stream",
     "text": [
      "+----------+-------------+--------------------+--------------------+--------+--------------------+\n|event_type|event_type_id|             details|            event_id|location|           timestamp|\n+----------+-------------+--------------------+--------------------+--------+--------------------+\n|  asteroid|            0|Event description...|e7f55a9d-3dc7-4c6...|    Asia|2023-05-02 02:24:...|\n|  asteroid|            0|Event description...|f614697d-169c-43c...|    Asia|2022-03-31 02:24:...|\n|  asteroid|            0|Event description...|172325ed-0524-42c...|    Asia|2023-03-07 02:24:...|\n|  asteroid|            0|Event description...|979db314-b3ba-484...|    Asia|2024-01-26 02:24:...|\n|  asteroid|            0|Event description...|92684258-8492-4be...|    Asia|2023-12-03 02:24:...|\n|  asteroid|            0|Event description...|697a5d63-b281-4a9...|    Asia|2023-12-12 02:24:...|\n|  asteroid|            0|Event description...|de979cca-135c-4a4...|    Asia|2024-03-20 02:24:...|\n|  asteroid|            0|Event description...|d65e1f49-2d5a-476...|    Asia|2024-06-27 02:24:...|\n|  asteroid|            0|Event description...|3bbcb786-16b3-4a8...|    Asia|2022-02-15 02:24:...|\n|  asteroid|            0|Event description...|3f3eb142-f1f3-480...|    Asia|2024-01-30 02:24:...|\n|  asteroid|            0|Event description...|e9b2eb21-b0a2-48f...|    Asia|2023-07-21 02:24:...|\n|  asteroid|            0|Event description...|46ba7a54-0cff-41a...|    Asia|2023-06-12 02:24:...|\n|  asteroid|            0|Event description...|03a8ca40-433b-4ca...|    Asia|2023-08-14 02:24:...|\n|  asteroid|            0|Event description...|e5c7570b-dc87-4a9...|    Asia|2024-09-02 02:24:...|\n|  asteroid|            0|Event description...|751fd8ea-777c-487...|    Asia|2024-04-22 02:24:...|\n|  asteroid|            0|Event description...|29368296-ae71-425...|    Asia|2022-09-26 02:24:...|\n|  asteroid|            0|Event description...|381e8975-00b9-4da...|    Asia|2024-05-15 02:24:...|\n|  asteroid|            0|Event description...|1379a78d-f306-4ba...|    Asia|2022-04-10 02:24:...|\n|  asteroid|            0|Event description...|bb48b8e8-03c9-46e...|    Asia|2022-11-29 02:24:...|\n|  asteroid|            0|Event description...|eaf0e682-8bb5-445...|    Asia|2022-04-18 02:24:...|\n+----------+-------------+--------------------+--------------------+--------+--------------------+\nonly showing top 20 rows\n\n"
     ]
    }
   ],
   "source": [
    "# Realizar un broadcast join, cruzar los eventos con el catalogo para obtener el ID\n",
    "result_df = event_types_catalog.join(\n",
    "    broadcast(df),  # Indicar que locations_df debe ser transmitido\n",
    "    on=\"event_type\",         # Clave de unión\n",
    "    how=\"inner\"               # Tipo de join\n",
    ")\n",
    "\n",
    "# Mostrar resultados\n",
    "result_df.show()"
   ]
  },
  {
   "cell_type": "markdown",
   "metadata": {
    "application/vnd.databricks.v1+cell": {
     "cellMetadata": {},
     "inputWidgets": {},
     "nuid": "91aac6cc-17c9-4a0e-b0ef-4ea3104b3678",
     "showTitle": false,
     "tableResultSettingsMap": {},
     "title": ""
    }
   },
   "source": [
    "4. Escribir los datos procesados en formato Parquet con particionamiento por año y ubicación."
   ]
  },
  {
   "cell_type": "code",
   "execution_count": 0,
   "metadata": {
    "application/vnd.databricks.v1+cell": {
     "cellMetadata": {
      "byteLimit": 2048000,
      "rowLimit": 10000
     },
     "inputWidgets": {},
     "nuid": "a2bb3349-64e7-4783-9fbd-0b901c61d49f",
     "showTitle": false,
     "tableResultSettingsMap": {},
     "title": ""
    }
   },
   "outputs": [],
   "source": [
    "    # save in parquet format\n",
    "    result_df.write.mode(\"overwrite\") \\\n",
    "        .partitionBy(\"timestamp\") \\\n",
    "        .format(\"delta\") \\\n",
    "        .option(\"mergeSchema\", \"true\")\\\n",
    "        .saveAsTable(\"default.lunar_events_id\")\n"
   ]
  },
  {
   "cell_type": "markdown",
   "metadata": {
    "application/vnd.databricks.v1+cell": {
     "cellMetadata": {},
     "inputWidgets": {},
     "nuid": "5973b31c-0bdb-49cc-8000-7cc4ad19bcbb",
     "showTitle": false,
     "tableResultSettingsMap": {},
     "title": ""
    }
   },
   "source": [
    "5. Leer un CSV con datos corruptos y manejar los errores"
   ]
  },
  {
   "cell_type": "code",
   "execution_count": 0,
   "metadata": {
    "application/vnd.databricks.v1+cell": {
     "cellMetadata": {},
     "inputWidgets": {},
     "nuid": "d40fde57-c89a-4554-af57-f2cccbd6b5bc",
     "showTitle": false,
     "tableResultSettingsMap": {},
     "title": ""
    }
   },
   "outputs": [],
   "source": [
    "# necesito un bucket para cargarlo y la autenticación hacia el bucket"
   ]
  },
  {
   "cell_type": "markdown",
   "metadata": {
    "application/vnd.databricks.v1+cell": {
     "cellMetadata": {},
     "inputWidgets": {},
     "nuid": "811c5615-2176-4569-b06d-2f285cd78740",
     "showTitle": false,
     "tableResultSettingsMap": {},
     "title": ""
    }
   },
   "source": [
    "6. Calcular la duración promedio de eventos por tipo"
   ]
  },
  {
   "cell_type": "code",
   "execution_count": 0,
   "metadata": {
    "application/vnd.databricks.v1+cell": {
     "cellMetadata": {},
     "inputWidgets": {},
     "nuid": "47719430-72fe-4fe8-bac3-7c81400effcf",
     "showTitle": false,
     "tableResultSettingsMap": {},
     "title": ""
    }
   },
   "outputs": [],
   "source": [
    "# no veo como obtener cuanto duro cada evento dado que solo viene el datetime del evento,"
   ]
  },
  {
   "cell_type": "markdown",
   "metadata": {
    "application/vnd.databricks.v1+cell": {
     "cellMetadata": {},
     "inputWidgets": {},
     "nuid": "14bf1472-32d6-40d3-b9e7-78b2ee654808",
     "showTitle": false,
     "tableResultSettingsMap": {},
     "title": ""
    }
   },
   "source": [
    "7. Diseñar un pipeline que procese datos de manera incremental.\n"
   ]
  },
  {
   "cell_type": "markdown",
   "metadata": {
    "application/vnd.databricks.v1+cell": {
     "cellMetadata": {},
     "inputWidgets": {},
     "nuid": "98a4b8bb-b2e2-4a96-b79c-f5f3f54cdf2c",
     "showTitle": false,
     "tableResultSettingsMap": {},
     "title": ""
    }
   },
   "source": [
    "**1. Leer los datos**\n",
    "\n",
    "- Crear una sesión de Spark\n",
    "- Definir las rutas de entrada y salida apuntando a buckets, ejempo AWS\n",
    "\n",
    "  - input_path = \"\"\n",
    "  - output_path = \"\"\n",
    "\n",
    "**Cargar los datos que ya han sido procesados**\n",
    "\n",
    "processed_data = spark.read.parquet(output_path)\n",
    "\n",
    "**Obtener la última fecha de los datos procesados**\n",
    "\n",
    "last_processed_timestamp = processed_data.agg(max(\"timestamp\")).collect()[0][0]\n",
    "\n",
    "**Leer los nuevos datos que han llegado desde la última ejecución**\n",
    "\n",
    "new_data = spark.read.parquet(input_path).filter(col(\"timestamp\") > last_processed_timestamp)\n",
    "\n",
    "**2.Transformación de Datos**\n",
    "\n",
    "transformed_data = ...\n",
    "\n",
    "**3.Escribir los nuevos datos**\n",
    "\n",
    "transformed_data.write.mode(\"append\").parquet(output_path)\n",
    "\n",
    "**4. Guardar fecha de actualización del registro**\n",
    "\n",
    "last_processed_timestamp = ...\n",
    "\n",
    "**5. Automatización**\n",
    "\n",
    "Usar Apache Airflow o Databricks Workflows"
   ]
  },
  {
   "cell_type": "markdown",
   "metadata": {
    "application/vnd.databricks.v1+cell": {
     "cellMetadata": {},
     "inputWidgets": {},
     "nuid": "cca0d8b5-c05c-47fc-ae91-68329ef1ef4a",
     "showTitle": false,
     "tableResultSettingsMap": {},
     "title": ""
    }
   },
   "source": [
    "### 8. Ajustar configuraciones de Spark para manejar errores de memoria en el procesamiento de 50 GB.\n"
   ]
  },
  {
   "cell_type": "code",
   "execution_count": 0,
   "metadata": {
    "application/vnd.databricks.v1+cell": {
     "cellMetadata": {
      "byteLimit": 2048000,
      "rowLimit": 10000
     },
     "inputWidgets": {},
     "nuid": "0fd67382-861d-45ce-90c9-37214a4d87a5",
     "showTitle": false,
     "tableResultSettingsMap": {},
     "title": ""
    }
   },
   "outputs": [],
   "source": [
    "from pyspark.sql import SparkSession\n",
    "\n",
    "spark = SparkSession.builder \\\n",
    "    .appName(\"DataPipeline\") \\\n",
    "    .config(\"spark.executor.memory\", \"8g\") \\\n",
    "    .config(\"spark.driver.memory\", \"8g\") \\\n",
    "    .config(\"spark.sql.shuffle.partitions\", \"200\") \\\n",
    "    .config(\"spark.sql.files.maxPartitionBytes\", \"134217728\") \\\n",
    "    .config(\"spark.executor.memoryOverhead\", \"2g\") \\\n",
    "    .config(\"spark.executor.instances\", \"10\") \\\n",
    "    .config(\"spark.executor.cores\", \"4\") \\\n",
    "    .config(\"spark.executor.extraJavaOptions\", \"-XX:+UseG1GC\") \\\n",
    "    .getOrCreate()\n"
   ]
  },
  {
   "cell_type": "markdown",
   "metadata": {
    "application/vnd.databricks.v1+cell": {
     "cellMetadata": {},
     "inputWidgets": {},
     "nuid": "18bffe3f-16db-4dd1-a2c4-180eb992a6bc",
     "showTitle": false,
     "tableResultSettingsMap": {},
     "title": ""
    }
   },
   "source": [
    "### 9. Comparar el uso de cache vs persist en una operación de agregación"
   ]
  },
  {
   "cell_type": "code",
   "execution_count": 0,
   "metadata": {
    "application/vnd.databricks.v1+cell": {
     "cellMetadata": {
      "byteLimit": 2048000,
      "rowLimit": 10000
     },
     "inputWidgets": {},
     "nuid": "2e5a9604-4b67-42eb-8db3-6dbd746aa77a",
     "showTitle": false,
     "tableResultSettingsMap": {},
     "title": ""
    }
   },
   "outputs": [
    {
     "output_type": "stream",
     "name": "stdout",
     "output_type": "stream",
     "text": [
      "+----------+----+------------+\n|event_type|year|events_count|\n+----------+----+------------+\n|  asteroid|2023|         686|\n|  asteroid|2024|         693|\n|  asteroid|2022|         614|\n|  asteroid|2025|          26|\n|    meteor|2025|          32|\n|    meteor|2024|         692|\n|    meteor|2023|         674|\n|    meteor|2022|         642|\n|     comet|2022|         648|\n|     comet|2023|         667|\n|     comet|2024|         699|\n|     lunar|2022|         624|\n|     solar|2022|         674|\n|     solar|2023|         659|\n|     lunar|2023|         597|\n|     solar|2024|         645|\n|     lunar|2024|         624|\n|     comet|2025|          42|\n|     lunar|2025|          29|\n|     solar|2025|          33|\n+----------+----+------------+\n\n"
     ]
    }
   ],
   "source": [
    "#cache\n",
    "# Supón que ya tienes el DataFrame 'df' con las ventas\n",
    "df_with_year.cache()\n",
    "df_agg = df_with_year.groupBy(\"event_type\", \"year\") .agg(count(\"*\").alias(\"events_count\"))\n",
    "df_agg.show()\n"
   ]
  },
  {
   "cell_type": "code",
   "execution_count": 0,
   "metadata": {
    "application/vnd.databricks.v1+cell": {
     "cellMetadata": {
      "byteLimit": 2048000,
      "rowLimit": 10000
     },
     "inputWidgets": {},
     "nuid": "9a7ff94f-17f1-4a93-aeb4-cff1dc562083",
     "showTitle": false,
     "tableResultSettingsMap": {},
     "title": ""
    }
   },
   "outputs": [
    {
     "output_type": "stream",
     "name": "stdout",
     "output_type": "stream",
     "text": [
      "+----------+----+------------+\n|event_type|year|events_count|\n+----------+----+------------+\n|  asteroid|2023|         686|\n|  asteroid|2024|         693|\n|  asteroid|2022|         614|\n|  asteroid|2025|          26|\n|    meteor|2025|          32|\n|    meteor|2024|         692|\n|    meteor|2023|         674|\n|    meteor|2022|         642|\n|     comet|2022|         648|\n|     comet|2023|         667|\n|     comet|2024|         699|\n|     lunar|2022|         624|\n|     solar|2022|         674|\n|     solar|2023|         659|\n|     lunar|2023|         597|\n|     solar|2024|         645|\n|     lunar|2024|         624|\n|     comet|2025|          42|\n|     lunar|2025|          29|\n|     solar|2025|          33|\n+----------+----+------------+\n\n"
     ]
    }
   ],
   "source": [
    "#pesistente \n",
    "from pyspark import StorageLevel\n",
    "df_with_year.persist(StorageLevel.MEMORY_AND_DISK)\n",
    "df_agg = df_with_year.groupBy(\"event_type\", \"year\") .agg(count(\"*\").alias(\"events_count\"))\n",
    "df_agg.show()\n"
   ]
  },
  {
   "cell_type": "markdown",
   "metadata": {
    "application/vnd.databricks.v1+cell": {
     "cellMetadata": {},
     "inputWidgets": {},
     "nuid": "667eb316-5f02-4b96-ae90-2d8bfa5e7b17",
     "showTitle": false,
     "tableResultSettingsMap": {},
     "title": ""
    }
   },
   "source": [
    "### 10. Optimizar un flujo PySpark con particionamiento adecuado."
   ]
  },
  {
   "cell_type": "code",
   "execution_count": 0,
   "metadata": {
    "application/vnd.databricks.v1+cell": {
     "cellMetadata": {
      "byteLimit": 2048000,
      "rowLimit": 10000
     },
     "inputWidgets": {},
     "nuid": "4e009f4b-df56-4c37-8ab9-ac82ff9c08ba",
     "showTitle": false,
     "tableResultSettingsMap": {},
     "title": ""
    }
   },
   "outputs": [],
   "source": [
    "# Reparticionar los datos\n",
    "num_partitions = sc.defaultParallelism  # Usa el número de núcleos disponibles\n",
    "# Reparticionar el DataFrame\n",
    "df_repartitioned = df_with_year.repartition(num_partitions)\n",
    "\n",
    "# particionar por una columa\n",
    "df_repartitioned = df_with_year.repartition(\"year\")\n"
   ]
  },
  {
   "cell_type": "markdown",
   "metadata": {
    "application/vnd.databricks.v1+cell": {
     "cellMetadata": {},
     "inputWidgets": {},
     "nuid": "f6e039f2-6f9c-4f36-ba0e-3c7b8df16110",
     "showTitle": false,
     "tableResultSettingsMap": {},
     "title": ""
    }
   },
   "source": [
    "### SQL y Modelado de Datos"
   ]
  },
  {
   "cell_type": "markdown",
   "metadata": {
    "application/vnd.databricks.v1+cell": {
     "cellMetadata": {},
     "inputWidgets": {},
     "nuid": "a39c1faf-2847-45e3-a1c4-c76e042c39de",
     "showTitle": false,
     "tableResultSettingsMap": {},
     "title": ""
    }
   },
   "source": [
    "**1. Escribir una consulta para obtener eventos lunares por ubicación:**"
   ]
  },
  {
   "cell_type": "code",
   "execution_count": 0,
   "metadata": {
    "application/vnd.databricks.v1+cell": {
     "cellMetadata": {
      "byteLimit": 2048000,
      "implicitDf": true,
      "rowLimit": 10000
     },
     "inputWidgets": {},
     "nuid": "d140df27-7b7e-4a51-ab94-676ad5a58233",
     "showTitle": false,
     "tableResultSettingsMap": {},
     "title": ""
    }
   },
   "outputs": [
    {
     "output_type": "display_data",
     "data": {
      "text/html": [
       "<style scoped>\n",
       "  .table-result-container {\n",
       "    max-height: 300px;\n",
       "    overflow: auto;\n",
       "  }\n",
       "  table, th, td {\n",
       "    border: 1px solid black;\n",
       "    border-collapse: collapse;\n",
       "  }\n",
       "  th, td {\n",
       "    padding: 5px;\n",
       "  }\n",
       "  th {\n",
       "    text-align: left;\n",
       "  }\n",
       "</style><div class='table-result-container'><table class='table-result'><thead style='background-color: white'><tr><th>location</th><th>event_count</th></tr></thead><tbody><tr><td>South_America</td><td>303</td></tr><tr><td>North_America</td><td>337</td></tr><tr><td>Oceania</td><td>301</td></tr><tr><td>Europe</td><td>309</td></tr><tr><td>Africa</td><td>310</td></tr><tr><td>Asia</td><td>314</td></tr></tbody></table></div>"
      ]
     },
     "metadata": {
      "application/vnd.databricks.v1+output": {
       "addedWidgets": {},
       "aggData": [],
       "aggError": "",
       "aggOverflow": false,
       "aggSchema": [],
       "aggSeriesLimitReached": false,
       "aggType": "",
       "arguments": {},
       "columnCustomDisplayInfos": {},
       "data": [
        [
         "South_America",
         303
        ],
        [
         "North_America",
         337
        ],
        [
         "Oceania",
         301
        ],
        [
         "Europe",
         309
        ],
        [
         "Africa",
         310
        ],
        [
         "Asia",
         314
        ]
       ],
       "datasetInfos": [],
       "dbfsResultPath": null,
       "isJsonSchema": true,
       "metadata": {},
       "overflow": false,
       "plotOptions": {
        "customPlotOptions": {},
        "displayType": "table",
        "pivotAggregation": null,
        "pivotColumns": null,
        "xColumns": null,
        "yColumns": null
       },
       "removedWidgets": [],
       "schema": [
        {
         "metadata": "{}",
         "name": "location",
         "type": "\"string\""
        },
        {
         "metadata": "{}",
         "name": "event_count",
         "type": "\"long\""
        }
       ],
       "type": "table"
      }
     },
     "output_type": "display_data"
    }
   ],
   "source": [
    "%sql\n",
    "SELECT location, COUNT(*) AS event_count\n",
    "FROM astronomical_events\n",
    "WHERE event_type = 'lunar'\n",
    "GROUP BY location;"
   ]
  },
  {
   "cell_type": "markdown",
   "metadata": {
    "application/vnd.databricks.v1+cell": {
     "cellMetadata": {},
     "inputWidgets": {},
     "nuid": "5e8c83d0-9190-4a57-8d20-3c4d37a89c37",
     "showTitle": false,
     "tableResultSettingsMap": {},
     "title": ""
    }
   },
   "source": [
    "**2. Identificar problemas en el siguiente esquema estrella y proponer mejoras:**\n",
    "\n",
    "   ```\n",
    "   fact_events (event_id, event_type_id, timestamp_id, location_id, details)\n",
    "\n",
    "   dim_event_type (event_type_id, event_name)\n",
    "\n",
    "   dim_timestamp (timestamp_id, year, month, day)\n",
    "   \n",
    "   dim_location (location_id, location_name, coordinates)\n",
    "   ```"
   ]
  },
  {
   "cell_type": "markdown",
   "metadata": {
    "application/vnd.databricks.v1+cell": {
     "cellMetadata": {},
     "inputWidgets": {},
     "nuid": "91a1f378-1885-44c1-a306-20ec10f8c704",
     "showTitle": false,
     "tableResultSettingsMap": {},
     "title": ""
    }
   },
   "source": [
    "  1. En la tabla fact_events detail puede ser una campo con muchos valores o texto muy grande o json o xml, se recomienda separar de la FACT por rendimiento y almacenamiento y crear una tabla de **details**\n",
    "\n",
    "  2. La dimension dim_timestamp solo tiene year, month y day, se recomienda que tenga la el timestamp del evento, semana, trimestre, semestre y temporada para poder generar mas consultas agrupadas por diferentes rubros.\n",
    "\n",
    "  3. dim_location parece que puede estar redundante en las corrdenadas, ya que se repiten las coordenadas en los eventos, sería conveniente hacer otra tabla de dim_coordinates"
   ]
  },
  {
   "cell_type": "markdown",
   "metadata": {
    "application/vnd.databricks.v1+cell": {
     "cellMetadata": {},
     "inputWidgets": {},
     "nuid": "9920e455-46c6-4953-8616-e5895430ad53",
     "showTitle": false,
     "tableResultSettingsMap": {},
     "title": ""
    }
   },
   "source": [
    "### "
   ]
  },
  {
   "cell_type": "markdown",
   "metadata": {
    "application/vnd.databricks.v1+cell": {
     "cellMetadata": {},
     "inputWidgets": {},
     "nuid": "3d34439d-0d51-46b1-99c2-cbfd6b2369e8",
     "showTitle": false,
     "tableResultSettingsMap": {},
     "title": ""
    }
   },
   "source": [
    "3. Escribir una consulta para calcular el rango de eventos entre años.\n"
   ]
  },
  {
   "cell_type": "markdown",
   "metadata": {
    "application/vnd.databricks.v1+cell": {
     "cellMetadata": {},
     "inputWidgets": {},
     "nuid": "df817135-8eb4-49dd-9c26-970dd623a51c",
     "showTitle": false,
     "tableResultSettingsMap": {},
     "title": ""
    }
   },
   "source": [
    "**3. Escribir una consulta para calcular el rango de eventos entre años.**"
   ]
  },
  {
   "cell_type": "code",
   "execution_count": 0,
   "metadata": {
    "application/vnd.databricks.v1+cell": {
     "cellMetadata": {
      "byteLimit": 2048000,
      "implicitDf": true,
      "rowLimit": 10000
     },
     "inputWidgets": {},
     "nuid": "bad08451-8adb-4159-910f-07c935e9480d",
     "showTitle": false,
     "tableResultSettingsMap": {},
     "title": ""
    }
   },
   "outputs": [
    {
     "output_type": "display_data",
     "data": {
      "text/html": [
       "<style scoped>\n",
       "  .table-result-container {\n",
       "    max-height: 300px;\n",
       "    overflow: auto;\n",
       "  }\n",
       "  table, th, td {\n",
       "    border: 1px solid black;\n",
       "    border-collapse: collapse;\n",
       "  }\n",
       "  th, td {\n",
       "    padding: 5px;\n",
       "  }\n",
       "  th {\n",
       "    text-align: left;\n",
       "  }\n",
       "</style><div class='table-result-container'><table class='table-result'><thead style='background-color: white'><tr><th>year(timestamp)</th><th>events_yearly</th></tr></thead><tbody><tr><td>2022</td><td>3202</td></tr><tr><td>2023</td><td>3283</td></tr><tr><td>2024</td><td>3353</td></tr><tr><td>2025</td><td>162</td></tr></tbody></table></div>"
      ]
     },
     "metadata": {
      "application/vnd.databricks.v1+output": {
       "addedWidgets": {},
       "aggData": [],
       "aggError": "",
       "aggOverflow": false,
       "aggSchema": [],
       "aggSeriesLimitReached": false,
       "aggType": "",
       "arguments": {},
       "columnCustomDisplayInfos": {},
       "data": [
        [
         2022,
         3202
        ],
        [
         2023,
         3283
        ],
        [
         2024,
         3353
        ],
        [
         2025,
         162
        ]
       ],
       "datasetInfos": [],
       "dbfsResultPath": null,
       "isJsonSchema": true,
       "metadata": {},
       "overflow": false,
       "plotOptions": {
        "customPlotOptions": {},
        "displayType": "table",
        "pivotAggregation": null,
        "pivotColumns": null,
        "xColumns": null,
        "yColumns": null
       },
       "removedWidgets": [],
       "schema": [
        {
         "metadata": "{\"__autoGeneratedAlias\":\"true\"}",
         "name": "year(timestamp)",
         "type": "\"integer\""
        },
        {
         "metadata": "{}",
         "name": "events_yearly",
         "type": "\"long\""
        }
       ],
       "type": "table"
      }
     },
     "output_type": "display_data"
    }
   ],
   "source": [
    "%sql\n",
    "SELECT \n",
    "    year(timestamp),\n",
    "    count(event_id) events_yearly\n",
    "FROM \n",
    "    astronomical_events \n",
    "GROUP BY \n",
    "    year(timestamp)\n",
    "ORDER BY \n",
    "    year(timestamp);\n"
   ]
  },
  {
   "cell_type": "markdown",
   "metadata": {
    "application/vnd.databricks.v1+cell": {
     "cellMetadata": {},
     "inputWidgets": {},
     "nuid": "8deafd50-ef53-4db1-ac54-537dc360ed81",
     "showTitle": false,
     "tableResultSettingsMap": {},
     "title": ""
    }
   },
   "source": [
    "**4. Crear índices para mejorar el rendimiento de consultas en tablas dimensionales.**"
   ]
  },
  {
   "cell_type": "markdown",
   "metadata": {
    "application/vnd.databricks.v1+cell": {
     "cellMetadata": {},
     "inputWidgets": {},
     "nuid": "241c9115-9042-4a24-83c2-d3fa165565d1",
     "showTitle": false,
     "tableResultSettingsMap": {},
     "title": ""
    }
   },
   "source": [
    "La actividad indica Diseñar un modelo dimensional, no construí el esquema del modelo en una BD Anlitica, ni en el Catalog Unity de Databricks, aquí no aplican los indices sino particiones\n"
   ]
  },
  {
   "cell_type": "code",
   "execution_count": 0,
   "metadata": {
    "application/vnd.databricks.v1+cell": {
     "cellMetadata": {},
     "inputWidgets": {},
     "nuid": "0c1a9100-b94a-4e82-9810-e98946b6518c",
     "showTitle": false,
     "tableResultSettingsMap": {},
     "title": ""
    }
   },
   "outputs": [],
   "source": [
    "%sql\n",
    "-- una opción de crear los indices sería:\n",
    "CREATE INDEX idx_timestamp_id ON dim_time (timestamp_id);\n"
   ]
  },
  {
   "cell_type": "markdown",
   "metadata": {
    "application/vnd.databricks.v1+cell": {
     "cellMetadata": {},
     "inputWidgets": {},
     "nuid": "ed6437c6-0018-4d54-acd8-41a8371c18f7",
     "showTitle": false,
     "tableResultSettingsMap": {},
     "title": ""
    }
   },
   "source": [
    "**5. Diseñar una tabla que audite cambios en la tabla de hechos.**"
   ]
  },
  {
   "cell_type": "code",
   "execution_count": 0,
   "metadata": {
    "application/vnd.databricks.v1+cell": {
     "cellMetadata": {
      "byteLimit": 2048000,
      "implicitDf": true,
      "rowLimit": 10000
     },
     "inputWidgets": {},
     "nuid": "8ec31d47-9643-48c4-a003-3ae4d01e13d7",
     "showTitle": false,
     "tableResultSettingsMap": {},
     "title": ""
    }
   },
   "outputs": [
    {
     "output_type": "display_data",
     "data": {
      "text/html": [
       "<style scoped>\n",
       "  .table-result-container {\n",
       "    max-height: 300px;\n",
       "    overflow: auto;\n",
       "  }\n",
       "  table, th, td {\n",
       "    border: 1px solid black;\n",
       "    border-collapse: collapse;\n",
       "  }\n",
       "  th, td {\n",
       "    padding: 5px;\n",
       "  }\n",
       "  th {\n",
       "    text-align: left;\n",
       "  }\n",
       "</style><div class='table-result-container'><table class='table-result'><thead style='background-color: white'><tr></tr></thead><tbody></tbody></table></div>"
      ]
     },
     "metadata": {
      "application/vnd.databricks.v1+output": {
       "addedWidgets": {},
       "aggData": [],
       "aggError": "",
       "aggOverflow": false,
       "aggSchema": [],
       "aggSeriesLimitReached": false,
       "aggType": "",
       "arguments": {},
       "columnCustomDisplayInfos": {},
       "data": [],
       "datasetInfos": [],
       "dbfsResultPath": null,
       "isJsonSchema": true,
       "metadata": {},
       "overflow": false,
       "plotOptions": {
        "customPlotOptions": {},
        "displayType": "table",
        "pivotAggregation": null,
        "pivotColumns": null,
        "xColumns": null,
        "yColumns": null
       },
       "removedWidgets": [],
       "schema": [],
       "type": "table"
      }
     },
     "output_type": "display_data"
    }
   ],
   "source": [
    "%sql\n",
    "CREATE TABLE default.fact_events_audit (\n",
    "    audit_id STRING,\n",
    "    event_id INT,\n",
    "    event_type_id INT,\n",
    "    timestamp_id INT,\n",
    "    location_id INT,\n",
    "    details STRING,\n",
    "    change_type STRING, -- INSERT, UPDATE, DELETE\n",
    "    old_event_type_id INT,\n",
    "    old_timestamp_id INT,\n",
    "    old_location_id INT,\n",
    "    old_details STRING,\n",
    "    changed_by STRING,\n",
    "    change_timestamp TIMESTAMP,\n",
    "    operation_timestamp TIMESTAMP\n",
    ")\n",
    "USING DELTA\n",
    "LOCATION 'dbfs:/user/hive/warehouse/fact_events_audit_new';\n"
   ]
  },
  {
   "cell_type": "markdown",
   "metadata": {
    "application/vnd.databricks.v1+cell": {
     "cellMetadata": {},
     "inputWidgets": {},
     "nuid": "7eb5c4ef-39fb-40a3-9c30-d6f36676bf94",
     "showTitle": false,
     "tableResultSettingsMap": {},
     "title": ""
    }
   },
   "source": [
    "**6. Calcular promedios de eventos por año y ubicación.**"
   ]
  },
  {
   "cell_type": "code",
   "execution_count": 0,
   "metadata": {
    "application/vnd.databricks.v1+cell": {
     "cellMetadata": {
      "byteLimit": 2048000,
      "implicitDf": true,
      "rowLimit": 10000
     },
     "inputWidgets": {},
     "nuid": "80e77658-ab33-4a3d-aff3-6a50f32ab0df",
     "showTitle": false,
     "tableResultSettingsMap": {},
     "title": ""
    }
   },
   "outputs": [
    {
     "output_type": "display_data",
     "data": {
      "text/html": [
       "<style scoped>\n",
       "  .table-result-container {\n",
       "    max-height: 300px;\n",
       "    overflow: auto;\n",
       "  }\n",
       "  table, th, td {\n",
       "    border: 1px solid black;\n",
       "    border-collapse: collapse;\n",
       "  }\n",
       "  th, td {\n",
       "    padding: 5px;\n",
       "  }\n",
       "  th {\n",
       "    text-align: left;\n",
       "  }\n",
       "</style><div class='table-result-container'><table class='table-result'><thead style='background-color: white'><tr><th>year(timestamp)</th><th>location</th><th>events</th></tr></thead><tbody><tr><td>2022</td><td>Africa</td><td>540</td></tr><tr><td>2022</td><td>Asia</td><td>522</td></tr><tr><td>2022</td><td>Europe</td><td>533</td></tr><tr><td>2022</td><td>North_America</td><td>514</td></tr><tr><td>2022</td><td>Oceania</td><td>577</td></tr><tr><td>2022</td><td>South_America</td><td>516</td></tr><tr><td>2023</td><td>Africa</td><td>559</td></tr><tr><td>2023</td><td>Asia</td><td>576</td></tr><tr><td>2023</td><td>Europe</td><td>547</td></tr><tr><td>2023</td><td>North_America</td><td>533</td></tr><tr><td>2023</td><td>Oceania</td><td>540</td></tr><tr><td>2023</td><td>South_America</td><td>528</td></tr><tr><td>2024</td><td>Africa</td><td>573</td></tr><tr><td>2024</td><td>Asia</td><td>545</td></tr><tr><td>2024</td><td>Europe</td><td>563</td></tr><tr><td>2024</td><td>North_America</td><td>541</td></tr><tr><td>2024</td><td>Oceania</td><td>561</td></tr><tr><td>2024</td><td>South_America</td><td>570</td></tr><tr><td>2025</td><td>Africa</td><td>30</td></tr><tr><td>2025</td><td>Asia</td><td>16</td></tr><tr><td>2025</td><td>Europe</td><td>29</td></tr><tr><td>2025</td><td>North_America</td><td>34</td></tr><tr><td>2025</td><td>Oceania</td><td>25</td></tr><tr><td>2025</td><td>South_America</td><td>28</td></tr></tbody></table></div>"
      ]
     },
     "metadata": {
      "application/vnd.databricks.v1+output": {
       "addedWidgets": {},
       "aggData": [],
       "aggError": "",
       "aggOverflow": false,
       "aggSchema": [],
       "aggSeriesLimitReached": false,
       "aggType": "",
       "arguments": {},
       "columnCustomDisplayInfos": {},
       "data": [
        [
         2022,
         "Africa",
         540
        ],
        [
         2022,
         "Asia",
         522
        ],
        [
         2022,
         "Europe",
         533
        ],
        [
         2022,
         "North_America",
         514
        ],
        [
         2022,
         "Oceania",
         577
        ],
        [
         2022,
         "South_America",
         516
        ],
        [
         2023,
         "Africa",
         559
        ],
        [
         2023,
         "Asia",
         576
        ],
        [
         2023,
         "Europe",
         547
        ],
        [
         2023,
         "North_America",
         533
        ],
        [
         2023,
         "Oceania",
         540
        ],
        [
         2023,
         "South_America",
         528
        ],
        [
         2024,
         "Africa",
         573
        ],
        [
         2024,
         "Asia",
         545
        ],
        [
         2024,
         "Europe",
         563
        ],
        [
         2024,
         "North_America",
         541
        ],
        [
         2024,
         "Oceania",
         561
        ],
        [
         2024,
         "South_America",
         570
        ],
        [
         2025,
         "Africa",
         30
        ],
        [
         2025,
         "Asia",
         16
        ],
        [
         2025,
         "Europe",
         29
        ],
        [
         2025,
         "North_America",
         34
        ],
        [
         2025,
         "Oceania",
         25
        ],
        [
         2025,
         "South_America",
         28
        ]
       ],
       "datasetInfos": [],
       "dbfsResultPath": null,
       "isJsonSchema": true,
       "metadata": {},
       "overflow": false,
       "plotOptions": {
        "customPlotOptions": {},
        "displayType": "table",
        "pivotAggregation": null,
        "pivotColumns": null,
        "xColumns": null,
        "yColumns": null
       },
       "removedWidgets": [],
       "schema": [
        {
         "metadata": "{\"__autoGeneratedAlias\":\"true\"}",
         "name": "year(timestamp)",
         "type": "\"integer\""
        },
        {
         "metadata": "{}",
         "name": "location",
         "type": "\"string\""
        },
        {
         "metadata": "{}",
         "name": "events",
         "type": "\"long\""
        }
       ],
       "type": "table"
      }
     },
     "output_type": "display_data"
    }
   ],
   "source": [
    "%sql\n",
    "\n",
    "SELECT\n",
    "    year(timestamp),\n",
    "    location,\n",
    "    count(event_id) events\n",
    "FROM \n",
    "    astronomical_events \n",
    "GROUP BY \n",
    "    year(timestamp), location\n",
    "ORDER BY \n",
    "    year(timestamp), location;\n",
    "\n",
    "\n"
   ]
  },
  {
   "cell_type": "markdown",
   "metadata": {
    "application/vnd.databricks.v1+cell": {
     "cellMetadata": {},
     "inputWidgets": {},
     "nuid": "cfa4c3dc-72f0-48ea-8fb9-c89ac9bba06d",
     "showTitle": false,
     "tableResultSettingsMap": {},
     "title": ""
    }
   },
   "source": [
    "**7. Relacionar dimensiones de tiempo y ubicación en un esquema Snowflake.**"
   ]
  },
  {
   "cell_type": "markdown",
   "metadata": {
    "application/vnd.databricks.v1+cell": {
     "cellMetadata": {},
     "inputWidgets": {},
     "nuid": "ac12b1a9-3af9-44fd-9339-7c066f2c1e00",
     "showTitle": false,
     "tableResultSettingsMap": {},
     "title": ""
    }
   },
   "source": [
    "EL esquema snowflake requiere que unas dimensiones se disgreguen en varias dimensiones, ejemplo dim_tiempo, quedaria en:\n",
    "\n",
    "dim_day -> que a su vez esta relacionada con dim_year y dim_month"
   ]
  },
  {
   "cell_type": "markdown",
   "metadata": {
    "application/vnd.databricks.v1+cell": {
     "cellMetadata": {
      "byteLimit": 2048000,
      "rowLimit": 10000
     },
     "inputWidgets": {},
     "nuid": "1a9ef170-45c3-4ed3-82de-de77e25a76dc",
     "showTitle": false,
     "tableResultSettingsMap": {},
     "title": ""
    }
   },
   "source": [
    "**8. Diseñar una consulta que identifique picos de eventos lunares por trimestre.**"
   ]
  },
  {
   "cell_type": "code",
   "execution_count": 0,
   "metadata": {
    "application/vnd.databricks.v1+cell": {
     "cellMetadata": {},
     "inputWidgets": {},
     "nuid": "e4ce52b0-a7ad-4ea0-9177-e3d79cb6b983",
     "showTitle": false,
     "tableResultSettingsMap": {},
     "title": ""
    }
   },
   "outputs": [],
   "source": [
    "En general como no se construyo el esquema ejemplo: DW_LUNAR_EVENTS hay que contruir en este momento con queries"
   ]
  },
  {
   "cell_type": "code",
   "execution_count": 0,
   "metadata": {
    "application/vnd.databricks.v1+cell": {
     "cellMetadata": {
      "byteLimit": 2048000,
      "implicitDf": true,
      "rowLimit": 10000
     },
     "inputWidgets": {},
     "nuid": "4454271c-1a23-4a8a-b330-68962f18e54c",
     "showTitle": false,
     "tableResultSettingsMap": {},
     "title": ""
    }
   },
   "outputs": [
    {
     "output_type": "display_data",
     "data": {
      "text/html": [
       "<style scoped>\n",
       "  .table-result-container {\n",
       "    max-height: 300px;\n",
       "    overflow: auto;\n",
       "  }\n",
       "  table, th, td {\n",
       "    border: 1px solid black;\n",
       "    border-collapse: collapse;\n",
       "  }\n",
       "  th, td {\n",
       "    padding: 5px;\n",
       "  }\n",
       "  th {\n",
       "    text-align: left;\n",
       "  }\n",
       "</style><div class='table-result-container'><table class='table-result'><thead style='background-color: white'><tr><th>year</th><th>quarter_name</th><th>event_count</th><th>avg_event_count</th><th>event_peak_status</th></tr></thead><tbody><tr><td>2022</td><td>2</td><td>173</td><td>156.0</td><td>Normal</td></tr><tr><td>2022</td><td>3</td><td>168</td><td>156.0</td><td>Normal</td></tr><tr><td>2022</td><td>1</td><td>117</td><td>156.0</td><td>Normal</td></tr><tr><td>2022</td><td>4</td><td>166</td><td>156.0</td><td>Normal</td></tr><tr><td>2023</td><td>2</td><td>160</td><td>149.25</td><td>Normal</td></tr><tr><td>2023</td><td>1</td><td>146</td><td>149.25</td><td>Normal</td></tr><tr><td>2023</td><td>3</td><td>159</td><td>149.25</td><td>Normal</td></tr><tr><td>2023</td><td>4</td><td>132</td><td>149.25</td><td>Normal</td></tr><tr><td>2024</td><td>3</td><td>168</td><td>156.0</td><td>Normal</td></tr><tr><td>2024</td><td>1</td><td>153</td><td>156.0</td><td>Normal</td></tr><tr><td>2024</td><td>2</td><td>143</td><td>156.0</td><td>Normal</td></tr><tr><td>2024</td><td>4</td><td>160</td><td>156.0</td><td>Normal</td></tr><tr><td>2025</td><td>1</td><td>29</td><td>29.0</td><td>Normal</td></tr></tbody></table></div>"
      ]
     },
     "metadata": {
      "application/vnd.databricks.v1+output": {
       "addedWidgets": {},
       "aggData": [],
       "aggError": "",
       "aggOverflow": false,
       "aggSchema": [],
       "aggSeriesLimitReached": false,
       "aggType": "",
       "arguments": {},
       "columnCustomDisplayInfos": {},
       "data": [
        [
         2022,
         2,
         173,
         156.0,
         "Normal"
        ],
        [
         2022,
         3,
         168,
         156.0,
         "Normal"
        ],
        [
         2022,
         1,
         117,
         156.0,
         "Normal"
        ],
        [
         2022,
         4,
         166,
         156.0,
         "Normal"
        ],
        [
         2023,
         2,
         160,
         149.25,
         "Normal"
        ],
        [
         2023,
         1,
         146,
         149.25,
         "Normal"
        ],
        [
         2023,
         3,
         159,
         149.25,
         "Normal"
        ],
        [
         2023,
         4,
         132,
         149.25,
         "Normal"
        ],
        [
         2024,
         3,
         168,
         156.0,
         "Normal"
        ],
        [
         2024,
         1,
         153,
         156.0,
         "Normal"
        ],
        [
         2024,
         2,
         143,
         156.0,
         "Normal"
        ],
        [
         2024,
         4,
         160,
         156.0,
         "Normal"
        ],
        [
         2025,
         1,
         29,
         29.0,
         "Normal"
        ]
       ],
       "datasetInfos": [],
       "dbfsResultPath": null,
       "isJsonSchema": true,
       "metadata": {},
       "overflow": false,
       "plotOptions": {
        "customPlotOptions": {},
        "displayType": "table",
        "pivotAggregation": null,
        "pivotColumns": null,
        "xColumns": null,
        "yColumns": null
       },
       "removedWidgets": [],
       "schema": [
        {
         "metadata": "{}",
         "name": "year",
         "type": "\"integer\""
        },
        {
         "metadata": "{}",
         "name": "quarter_name",
         "type": "\"integer\""
        },
        {
         "metadata": "{}",
         "name": "event_count",
         "type": "\"long\""
        },
        {
         "metadata": "{}",
         "name": "avg_event_count",
         "type": "\"double\""
        },
        {
         "metadata": "{}",
         "name": "event_peak_status",
         "type": "\"string\""
        }
       ],
       "type": "table"
      }
     },
     "output_type": "display_data"
    }
   ],
   "source": [
    "%sql\n",
    "WITH event_counts_per_quarter AS (\n",
    "    SELECT\n",
    "        quarter(timestamp) as quarter_name,\n",
    "        year(timestamp) as year,\n",
    "        COUNT(event_id) AS event_count\n",
    "    FROM\n",
    "        astronomical_events\n",
    "    WHERE event_type = 'lunar'  -- Asumiendo que 'Lunar Event' es el tipo de evento lunar\n",
    "    GROUP BY\n",
    "      quarter(timestamp),\n",
    "      year(timestamp)\n",
    "),\n",
    "quarter_avg AS (\n",
    "    SELECT\n",
    "        year,\n",
    "        AVG(event_count) AS avg_event_count\n",
    "    FROM\n",
    "        event_counts_per_quarter\n",
    "    GROUP BY\n",
    "        year\n",
    ")\n",
    "SELECT\n",
    "    eq.year,\n",
    "    eq.quarter_name,\n",
    "    eq.event_count,\n",
    "    qa.avg_event_count,\n",
    "    CASE\n",
    "        WHEN eq.event_count > qa.avg_event_count * 1.5 THEN 'Peak'  -- Identifica picos como eventos más de 1.5 veces el promedio\n",
    "        ELSE 'Normal'\n",
    "    END AS event_peak_status\n",
    "FROM\n",
    "    event_counts_per_quarter eq\n",
    "JOIN\n",
    "    quarter_avg qa ON eq.year = qa.year\n",
    "ORDER BY\n",
    "    eq.year,\n",
    "    CASE\n",
    "        WHEN eq.event_count > qa.avg_event_count * 1.5 THEN 1\n",
    "        ELSE 2\n",
    "    END;\n"
   ]
  },
  {
   "cell_type": "markdown",
   "metadata": {
    "application/vnd.databricks.v1+cell": {
     "cellMetadata": {},
     "inputWidgets": {},
     "nuid": "bd50d5e1-6655-4e01-ba43-c1543798c245",
     "showTitle": false,
     "tableResultSettingsMap": {},
     "title": ""
    }
   },
   "source": [
    "**9. Ajustar una consulta SQL para evitar escaneos completos de tabla.**"
   ]
  },
  {
   "cell_type": "code",
   "execution_count": 0,
   "metadata": {
    "application/vnd.databricks.v1+cell": {
     "cellMetadata": {
      "byteLimit": 2048000,
      "implicitDf": true,
      "rowLimit": 10000
     },
     "inputWidgets": {},
     "nuid": "6fd9a237-8713-4f9a-bb67-5fd92f4bffec",
     "showTitle": false,
     "tableResultSettingsMap": {},
     "title": ""
    }
   },
   "outputs": [
    {
     "output_type": "display_data",
     "data": {
      "text/html": [
       "<style scoped>\n",
       "  .table-result-container {\n",
       "    max-height: 300px;\n",
       "    overflow: auto;\n",
       "  }\n",
       "  table, th, td {\n",
       "    border: 1px solid black;\n",
       "    border-collapse: collapse;\n",
       "  }\n",
       "  th, td {\n",
       "    padding: 5px;\n",
       "  }\n",
       "  th {\n",
       "    text-align: left;\n",
       "  }\n",
       "</style><div class='table-result-container'><table class='table-result'><thead style='background-color: white'><tr><th>year</th><th>quarter_name</th><th>event_count</th><th>avg_event_count</th><th>event_peak_status</th></tr></thead><tbody><tr><td>2022</td><td>2</td><td>173</td><td>156.0</td><td>Normal</td></tr><tr><td>2022</td><td>3</td><td>168</td><td>156.0</td><td>Normal</td></tr><tr><td>2022</td><td>1</td><td>117</td><td>156.0</td><td>Normal</td></tr><tr><td>2022</td><td>4</td><td>166</td><td>156.0</td><td>Normal</td></tr><tr><td>2023</td><td>2</td><td>160</td><td>149.25</td><td>Normal</td></tr><tr><td>2023</td><td>1</td><td>146</td><td>149.25</td><td>Normal</td></tr><tr><td>2023</td><td>3</td><td>159</td><td>149.25</td><td>Normal</td></tr><tr><td>2023</td><td>4</td><td>132</td><td>149.25</td><td>Normal</td></tr><tr><td>2024</td><td>3</td><td>168</td><td>156.0</td><td>Normal</td></tr><tr><td>2024</td><td>1</td><td>153</td><td>156.0</td><td>Normal</td></tr><tr><td>2024</td><td>2</td><td>143</td><td>156.0</td><td>Normal</td></tr><tr><td>2024</td><td>4</td><td>160</td><td>156.0</td><td>Normal</td></tr><tr><td>2025</td><td>1</td><td>29</td><td>29.0</td><td>Normal</td></tr></tbody></table></div>"
      ]
     },
     "metadata": {
      "application/vnd.databricks.v1+output": {
       "addedWidgets": {},
       "aggData": [],
       "aggError": "",
       "aggOverflow": false,
       "aggSchema": [],
       "aggSeriesLimitReached": false,
       "aggType": "",
       "arguments": {},
       "columnCustomDisplayInfos": {},
       "data": [
        [
         2022,
         2,
         173,
         156.0,
         "Normal"
        ],
        [
         2022,
         3,
         168,
         156.0,
         "Normal"
        ],
        [
         2022,
         1,
         117,
         156.0,
         "Normal"
        ],
        [
         2022,
         4,
         166,
         156.0,
         "Normal"
        ],
        [
         2023,
         2,
         160,
         149.25,
         "Normal"
        ],
        [
         2023,
         1,
         146,
         149.25,
         "Normal"
        ],
        [
         2023,
         3,
         159,
         149.25,
         "Normal"
        ],
        [
         2023,
         4,
         132,
         149.25,
         "Normal"
        ],
        [
         2024,
         3,
         168,
         156.0,
         "Normal"
        ],
        [
         2024,
         1,
         153,
         156.0,
         "Normal"
        ],
        [
         2024,
         2,
         143,
         156.0,
         "Normal"
        ],
        [
         2024,
         4,
         160,
         156.0,
         "Normal"
        ],
        [
         2025,
         1,
         29,
         29.0,
         "Normal"
        ]
       ],
       "datasetInfos": [],
       "dbfsResultPath": null,
       "isJsonSchema": true,
       "metadata": {},
       "overflow": false,
       "plotOptions": {
        "customPlotOptions": {},
        "displayType": "table",
        "pivotAggregation": null,
        "pivotColumns": null,
        "xColumns": null,
        "yColumns": null
       },
       "removedWidgets": [],
       "schema": [
        {
         "metadata": "{}",
         "name": "year",
         "type": "\"integer\""
        },
        {
         "metadata": "{}",
         "name": "quarter_name",
         "type": "\"integer\""
        },
        {
         "metadata": "{}",
         "name": "event_count",
         "type": "\"long\""
        },
        {
         "metadata": "{}",
         "name": "avg_event_count",
         "type": "\"double\""
        },
        {
         "metadata": "{}",
         "name": "event_peak_status",
         "type": "\"string\""
        }
       ],
       "type": "table"
      }
     },
     "output_type": "display_data"
    }
   ],
   "source": [
    "%sql\n",
    "WITH filtered_events AS (\n",
    "    SELECT\n",
    "        event_id,\n",
    "        timestamp\n",
    "    FROM\n",
    "        astronomical_events\n",
    "    WHERE event_type = 'lunar'  -- Filtrar primero por el tipo de evento lunar\n",
    "),\n",
    "event_counts_per_quarter AS (\n",
    "    SELECT\n",
    "        EXTRACT(QUARTER FROM timestamp) AS quarter_name,  -- Usar EXTRACT para evitar la función 'quarter()' costosa\n",
    "        EXTRACT(YEAR FROM timestamp) AS year,  -- Usar EXTRACT para evitar la función 'year()' costosa\n",
    "        COUNT(event_id) AS event_count\n",
    "    FROM\n",
    "        filtered_events\n",
    "    GROUP BY\n",
    "        EXTRACT(QUARTER FROM timestamp),\n",
    "        EXTRACT(YEAR FROM timestamp)\n",
    "),\n",
    "quarter_avg AS (\n",
    "    SELECT\n",
    "        year,\n",
    "        AVG(event_count) AS avg_event_count\n",
    "    FROM\n",
    "        event_counts_per_quarter\n",
    "    GROUP BY\n",
    "        year\n",
    ")\n",
    "SELECT\n",
    "    eq.year,\n",
    "    eq.quarter_name,\n",
    "    eq.event_count,\n",
    "    qa.avg_event_count,\n",
    "    CASE\n",
    "        WHEN eq.event_count > qa.avg_event_count * 1.5 THEN 'Peak'  -- Identifica picos como eventos más de 1.5 veces el promedio\n",
    "        ELSE 'Normal'\n",
    "    END AS event_peak_status\n",
    "FROM\n",
    "    event_counts_per_quarter eq\n",
    "JOIN\n",
    "    quarter_avg qa ON eq.year = qa.year\n",
    "ORDER BY\n",
    "    eq.year,\n",
    "    CASE\n",
    "        WHEN eq.event_count > qa.avg_event_count * 1.5 THEN 1\n",
    "        ELSE 2\n",
    "    END;\n"
   ]
  },
  {
   "cell_type": "markdown",
   "metadata": {
    "application/vnd.databricks.v1+cell": {
     "cellMetadata": {},
     "inputWidgets": {},
     "nuid": "8ff3de5c-658d-4f86-a49d-31ac7c66c3b0",
     "showTitle": false,
     "tableResultSettingsMap": {},
     "title": ""
    }
   },
   "source": [
    "**10. Proponer una estrategia para manejar datos históricos en un esquema dimensional.**"
   ]
  },
  {
   "cell_type": "markdown",
   "metadata": {
    "application/vnd.databricks.v1+cell": {
     "cellMetadata": {},
     "inputWidgets": {},
     "nuid": "03b87466-a93c-4f15-b070-97c8ac0719fa",
     "showTitle": false,
     "tableResultSettingsMap": {},
     "title": ""
    }
   },
   "source": [
    "1. Si las dimensiones no se necesitan controlar, se puede realizar la actualizacion direca en los dimensiones\n",
    "\n",
    "2. Si se necesita mantener el hisótico de los cambios en las dimensiones, se crean nuevos registros con una nueva clave, indicando fecha inicio y fin de ese nuevo valor\n",
    "\n",
    "3. En las tablas de hechos se debe agregar un campo para saber si un valor está activo o no.\n",
    "\n",
    "4. Fechas de vigencia en las tablas de hechos, si está activo o no, si está actualziado."
   ]
  },
  {
   "cell_type": "markdown",
   "metadata": {
    "application/vnd.databricks.v1+cell": {
     "cellMetadata": {},
     "inputWidgets": {},
     "nuid": "6ed21486-f0b4-4263-8c7f-872e16f9ad36",
     "showTitle": false,
     "tableResultSettingsMap": {},
     "title": ""
    }
   },
   "source": [
    "**Parte 5: Capacidad de Entender el Problema de Negocio**"
   ]
  },
  {
   "cell_type": "markdown",
   "metadata": {
    "application/vnd.databricks.v1+cell": {
     "cellMetadata": {},
     "inputWidgets": {},
     "nuid": "af0bd608-e4df-4330-a697-06180c22fe00",
     "showTitle": false,
     "tableResultSettingsMap": {},
     "title": ""
    }
   },
   "source": [
    "Situación 1:\n",
    "\n",
    "Un cliente interno tiene la hipótesis de que conocer la ruta de la luna podría incrementar las ventas. Tu tarea es:\n",
    "\n",
    "1. Diseñar un flujo de análisis que permita relacionar eventos lunares con tendencias de ventas.\n",
    "\n",
    "2. Proponer métricas clave que respalden o refuten la hipótesis."
   ]
  },
  {
   "cell_type": "markdown",
   "metadata": {
    "application/vnd.databricks.v1+cell": {
     "cellMetadata": {},
     "inputWidgets": {},
     "nuid": "2e4e8135-23ec-42d9-869b-52f7f58a5c38",
     "showTitle": false,
     "tableResultSettingsMap": {},
     "title": ""
    }
   },
   "source": [
    "Fase 1: Recopilar  datos de Ventas\n",
    "\n",
    "Obtener los datos históricos de venta que tengan el campo timestamp para poder empatare los datos de ventas con eventos lunares.\n",
    "\n",
    "La venta debe tener, producto, categoria, dia, hora.\n",
    "\n",
    "Fase 2: Preprocesamiento y limpieza de datos\n",
    "\n",
    "integrar los datos de los evebtos lunares con las ventas en una tabla de tal manera que queden las ventas y los eventos lunares usando los datos de las ventas y de los eventos lunares como variables (columnas).\n",
    "\n",
    "Fase 3: Análisis exploratorio de datos (EDA)\n",
    "\n",
    "Matriz de correlacón: Buscar la correlación de las variables, fecha, evento lunar y venta usando matriz de correlación de pearson o spearman,\n",
    "\n",
    "Gráfica de tendencias: Graficar por día en el eje X y graficar sobre el eje Y los eventos lunares y los montos de venta para buscar un patron.\n",
    "\n",
    "Segmentar datos:\n",
    "En grupos por semanas antes y despues del evento de lunar, para revisar si el evento genera un efecto en las ventas.\n",
    "\n",
    "Fase 4: Modelos de predicción\n",
    "\n",
    "Usar moelos de serie de tiempo\n",
    "\n",
    "Tablas:\n",
    "\n",
    "Incluir tablas de resumen que muestren las medias de ventas en las diferentes fases lunares.\n",
    "\n",
    "Informe de hallazgos:\n",
    "\n",
    "Resumir los hallazgos, explicando si existe o no una correlación significativa entre los eventos lunares y las ventas."
   ]
  },
  {
   "cell_type": "markdown",
   "metadata": {
    "application/vnd.databricks.v1+cell": {
     "cellMetadata": {},
     "inputWidgets": {},
     "nuid": "c712413c-80d1-430f-b656-a9060d520b78",
     "showTitle": false,
     "tableResultSettingsMap": {},
     "title": ""
    }
   },
   "source": [
    "Situación 2:\n",
    "\n",
    "Otro cliente interno menciona que conocer la altura de la marea en base a eventos lunares ayudará a reducir el riesgo de operaciones comerciales en la playa. Tu tarea es:\n",
    "\n",
    "1. Diseñar un flujo para predecir la altura de la marea usando eventos lunares.\n",
    "2. Proponer un reporte para alertar de riesgos potenciales basados en la altura de la marea.\n"
   ]
  },
  {
   "cell_type": "markdown",
   "metadata": {
    "application/vnd.databricks.v1+cell": {
     "cellMetadata": {},
     "inputWidgets": {},
     "nuid": "c04fad65-b4c2-4d78-bb90-149cb81ff1eb",
     "showTitle": false,
     "tableResultSettingsMap": {},
     "title": ""
    }
   },
   "source": [
    "Fase 1: Recopilar datos de la marea\n",
    "\n",
    "Obtener los datos históricos de la marea  para poder empatarse con los datos de eventos lunares.\n",
    "\n",
    "Obtener datos\n",
    "\n",
    "La marea debe tener, marea_id, timestamp, altura_marea, ubicacion_playa, evento_lunar_id.\n",
    "\n",
    "Fase 2: Preprocesamiento y limpieza de datos\n",
    "\n",
    "integrar los datos de los eventos lunares con las mareas en una tabla de tal manera que queden las mareas y los eventos lunares usando los datos de las mareas y de los eventos lunares como variables (columnas).\n",
    "\n",
    "Fase 3: Análisis exploratorio de datos (EDA)\n",
    "\n",
    "Matriz de correlacón: Buscar la correlación de las variables, fecha, evento lunar y altura de la marea usando matriz de correlación de pearson o spearman,\n",
    "\n",
    "Gráfica de tendencias: Graficar por día en el eje X y graficar sobre el eje Y los eventos lunares y las alturas de la marea para buscar un patron.\n",
    "\n",
    "Etiquetar datos:\n",
    "Etiquetar cada registro para saber si hay un evento lunar y se presenta marea alta, como True o False\n",
    "\n",
    "Fase 4: Modelos de predicción\n",
    "\n",
    "Usar un modelo supervisado para entrenar con base a los datos etiquetados y después poder predecir con base al entrenamiento para los nuevos datos, se puede usar: Regresión Logística, Árboles de Decisión, SVM, K-NN, Naive Bayes\n",
    "\n",
    "Informe de hallazgos:\n",
    "\n",
    "Resumir los hallazgos, explicando si es posible predecir y con que porcentaje de exactitud si es posbile usar un modelo de Machine Learning para predecir las alturas de la marea con base a eventos lunares. "
   ]
  },
  {
   "cell_type": "markdown",
   "metadata": {
    "application/vnd.databricks.v1+cell": {
     "cellMetadata": {},
     "inputWidgets": {},
     "nuid": "fd52c33e-1ae7-4e98-8ce3-f6338687f7a6",
     "showTitle": false,
     "tableResultSettingsMap": {},
     "title": ""
    }
   },
   "source": [
    "****"
   ]
  },
  {
   "cell_type": "markdown",
   "metadata": {
    "application/vnd.databricks.v1+cell": {
     "cellMetadata": {},
     "inputWidgets": {},
     "nuid": "50df2b44-17a7-445c-81d9-83cbf6e4eac6",
     "showTitle": false,
     "tableResultSettingsMap": {},
     "title": ""
    }
   },
   "source": [
    "### "
   ]
  }
 ],
 "metadata": {
  "application/vnd.databricks.v1+notebook": {
   "computePreferences": null,
   "dashboards": [],
   "environmentMetadata": {
    "base_environment": "",
    "client": "1"
   },
   "language": "python",
   "notebookMetadata": {
    "mostRecentlyExecutedCommandWithImplicitDF": {
     "commandId": 1405918004178963,
     "dataframes": [
      "_sqldf"
     ]
    },
    "pythonIndentUnit": 4
   },
   "notebookName": "analysis",
   "widgets": {}
  }
 },
 "nbformat": 4,
 "nbformat_minor": 0
}
